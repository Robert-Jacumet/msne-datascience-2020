{
 "cells": [
  {
   "cell_type": "markdown",
   "metadata": {},
   "source": [
    "# Session 5: Getting started with the project"
   ]
  },
  {
   "source": [],
   "cell_type": "markdown",
   "metadata": {}
  },
  {
   "source": [
    "## Goals\n",
    "\n",
    "1. choose a project or define your own project\n",
    "2. set up a working environment: terminal, `python`, editor, `jupyter`, `github`\n",
    "3. Optional: intro to `python` functions\n",
    "4. start working on your project"
   ],
   "cell_type": "markdown",
   "metadata": {}
  },
  {
   "cell_type": "markdown",
   "metadata": {},
   "source": [
    "### 1. Choose a project\n",
    "\n",
    "Choose a project from [https://github.com/cne-tum/msne-datascience-2020/tree/master/projects](https://github.com/cne-tum/msne-datascience-2020/tree/master/projects) or define your own project in textfile, notebook or any other document."
   ]
  },
  {
   "source": [
    "\n",
    "Test\n"
   ],
   "cell_type": "markdown",
   "metadata": {}
  },
  {
   "source": [
    "A=3+3\n",
    "print(A)"
   ],
   "cell_type": "code",
   "metadata": {},
   "execution_count": 4,
   "outputs": [
    {
     "output_type": "stream",
     "name": "stdout",
     "text": [
      "6\n"
     ]
    }
   ]
  },
  {
   "cell_type": "markdown",
   "metadata": {},
   "source": [
    "### 2. Working environment\n",
    "We will talk about this on zoom. The following is just a summary to come back to later."
   ]
  },
  {
   "cell_type": "markdown",
   "metadata": {},
   "source": [
    "It is essential to have a good working environment. This will make your work more efficient and more enjoyable.\n",
    "\n",
    "From the previous sessions you should already have a working `terminal`, a Python and a `jupyter` installation, and a `GitHub` account. If you now add a local text editor for writing your python scripts you have everything in place. \n",
    "\n",
    "#### Recommended working mode \n",
    "\n",
    "I recommend the following working mode. You open a `Jupyter` notebook from the terminal and use the notebook environment in your browser to quickly try out things, print variables, types, try short code snippets, plotting etc.. In principle you can do all your programming in the notebook. However, if you want to write longer functions or scripts that, e.g., read in and pre-process some data, I recommend to switch to the local editor, e.g., `Atom` or `VSCode`. Then you would write your Python code in the editor, save the Python file and execute it from the terminal. Such a Python script could, e.g., read in data, pre-process it, save it again. Afterwards, for creating plots, I would again switch to the `Jupyter` notebook in the browser, read in the data and interactively design the plot. \n",
    "\n",
    "This might sound confusing now, but I am sure you will find your preferred working mode at some point. \n",
    "\n",
    "For all this to work you need a dedicated folder on your computer to work in. E.g., you could create a folder `msne/` somewhere and have all the relevant files in there: clone the course repository in there, save your python files in there, start the jupyter notebook in there etc. "
   ]
  },
  {
   "cell_type": "markdown",
   "metadata": {},
   "source": [
    "#### Work for windows users (copied from last week notebook)\n",
    "\n",
    "If you are using Windows Subsystem for Linux, I would recommend the following:\n",
    "\n",
    "1. Make a new folder on Windows e.g. create `C:\\ubuntu\\msne`\n",
    "2. When you are on the Ubuntu terminal and want to work on a project, I would recommend switching to the path `/mnt/c/ubuntu/msne` and working in there.\n",
    "\n",
    "Why? That way, you can access files that live inside WSL from Windows and Ubuntu. This might be handy for several things:\n",
    "1. If you prefer writing your code in an external editor, like [Atom](http://atom.io) or [VSCode](https://code.visualstudio.com) this comes handy: You install the editor on Windows, store files in `C:\\ubuntu\\perhaps_some_subfolder` and can access them from your Ubuntu terminal by switching to `/mnt/c/ubuntu/perhaps_some_subfolder` e.g. to run Python on the script file.\n",
    "2. Your scripts or notebooks may eventually create outputs that you want to access from Windows, say, for example, your script or notebook creates some plots you need to use for a report or homework assignment. By working inside `/mnt/c/ubuntu` you can easily access files from Windows Explorer."
   ]
  },
  {
   "cell_type": "markdown",
   "metadata": {},
   "source": [
    "#### GitHub forks\n",
    "\n",
    "On Github you can create a fork of a repository, basically a copy of a given repository to your own account. This is useful if you want to work with the content of that repository without breaking anything in the original repository. By creating a copy to your GitHub account you can do whatever you want with it, without changing the original repository. \n",
    "\n",
    "More details here: https://guides.github.com/activities/forking/\n",
    "\n",
    "To practice working with git and GitHub we want you to fork our repository https://github.com/cne-tum/msne-datascience-2020 to your account. Further, you should create a git branch to work on your project, commit your changes on that branch and push them to your fork on GitHub. "
   ]
  },
  {
   "cell_type": "markdown",
   "metadata": {},
   "source": [
    "### 2.1 Tasks\n",
    "\n",
    "1. Create local folder, e.g., on Windows `C:\\ubuntu\\msne` or `/User/your-username/msne` on Mac OS.\n",
    "2. Create a `fork` of our repository onto your `GitHub` account.\n",
    "2. Clone the forked repository into your local folder.\n",
    "3. Install an editor, e.g., Atom or VSCode. \n",
    "4. Create a `conda` environment for your project, activate it.\n",
    "5. Open a jupyter notebook from your folder in the terminal. Go to the notebook environment in the browser and try some Python commands. "
   ]
  },
  {
   "cell_type": "markdown",
   "metadata": {},
   "source": [
    "### 3. Intro to Python functions\n",
    "\n",
    "If you have no experience with writing functions in Python I recommend to do at least the first two chapters of this Datacamp course: \n",
    "\n",
    "[https://learn.datacamp.com/courses/python-data-science-toolbox-part-1](https://learn.datacamp.com/courses/python-data-science-toolbox-part-1)"
   ]
  },
  {
   "cell_type": "markdown",
   "metadata": {},
   "source": [
    "### 4. Start working on your project\n",
    "\n",
    "- read through the entire project description once.\n",
    "- start working, try to solve problems on your own first, come back to zoom to ask questions anytime. \n",
    "- commit your changes and push them to GitHub."
   ]
  },
  {
   "cell_type": "code",
   "execution_count": null,
   "metadata": {},
   "outputs": [],
   "source": []
  }
 ],
 "metadata": {
  "kernelspec": {
   "display_name": "Python 3",
   "language": "python",
   "name": "python3"
  },
  "language_info": {
   "codemirror_mode": {
    "name": "ipython",
    "version": 3
   },
   "file_extension": ".py",
   "mimetype": "text/x-python",
   "name": "python",
   "nbconvert_exporter": "python",
   "pygments_lexer": "ipython3",
   "version": "3.8.5-final"
  }
 },
 "nbformat": 4,
 "nbformat_minor": 4
}